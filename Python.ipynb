{
 "cells": [
  {
   "cell_type": "markdown",
   "metadata": {},
   "source": [
    "# Getting Started\n",
    "* click on a cell to edit it\n",
    "* cells can contain multiple lines\n",
    "* press `shift-enter` while editing to execute a cell\n",
    "* every cell can be executed on their own, but all share the same global state\n",
    "* cells can either be code cells or text cells (markdown), switch types in the top row"
   ]
  },
  {
   "cell_type": "markdown",
   "metadata": {},
   "source": [
    "## First things, first: Hello World!\n",
    "The print function can print all objects in python and takes as much arguments as you'd like."
   ]
  },
  {
   "cell_type": "code",
   "execution_count": 2,
   "metadata": {},
   "outputs": [
    {
     "name": "stdout",
     "output_type": "stream",
     "text": [
      "Hello World\n"
     ]
    }
   ],
   "source": [
    "print(\"Hello World\")"
   ]
  },
  {
   "cell_type": "code",
   "execution_count": 3,
   "metadata": {},
   "outputs": [
    {
     "name": "stdout",
     "output_type": "stream",
     "text": [
      "Hello from Bayreuth\n"
     ]
    }
   ],
   "source": [
    "print(\"Hello\", \"from\", \"Bayreuth\")"
   ]
  },
  {
   "cell_type": "markdown",
   "metadata": {},
   "source": [
    "The notebooks also prints the value of the last line automatically."
   ]
  },
  {
   "cell_type": "code",
   "execution_count": 6,
   "metadata": {},
   "outputs": [
    {
     "data": {
      "text/plain": [
       "'Biophysik'"
      ]
     },
     "execution_count": 6,
     "metadata": {},
     "output_type": "execute_result"
    }
   ],
   "source": [
    "23 + 19\n",
    "\"Biophysik\""
   ]
  },
  {
   "cell_type": "markdown",
   "metadata": {},
   "source": [
    "Variables and arithmetic work as you probably expect them to"
   ]
  },
  {
   "cell_type": "code",
   "execution_count": 9,
   "metadata": {},
   "outputs": [
    {
     "name": "stdout",
     "output_type": "stream",
     "text": [
      "2.0 28.35\n"
     ]
    }
   ],
   "source": [
    "x = 4 / 2\n",
    "y = 42 - 5 * 2.73\n",
    "print(x, y)"
   ]
  },
  {
   "cell_type": "markdown",
   "metadata": {},
   "source": [
    "two small differences, though:\n",
    "* `/` always returns floating point number even for integer input, use `//` for floor division\n",
    "* powers use `**` (because `^` is bitwise xor)"
   ]
  },
  {
   "cell_type": "code",
   "execution_count": 12,
   "metadata": {},
   "outputs": [
    {
     "name": "stdout",
     "output_type": "stream",
     "text": [
      "1.5 256 3\n"
     ]
    }
   ],
   "source": [
    "print(3 / 2, 2 ** 8, 1 ^ 2)"
   ]
  },
  {
   "cell_type": "markdown",
   "metadata": {},
   "source": [
    "Python has the usual flow control constructs, but there is one significant difference:\n",
    "there are no braces and indentation matters. Inner blocks need be indented succesively by 4 spaces"
   ]
  },
  {
   "cell_type": "code",
   "execution_count": 15,
   "metadata": {},
   "outputs": [
    {
     "name": "stdout",
     "output_type": "stream",
     "text": [
      "Three is indeed smaller than four, who'd have thunked.\n"
     ]
    }
   ],
   "source": [
    "if 3 < 4:\n",
    "    print(\"Three is indeed smaller than four, who'd have thunked.\")\n",
    "else:\n",
    "    # by the way this is a comment\n",
    "    # if for some reason you don't have anything to put in the block, use `pass`\n",
    "    pass"
   ]
  },
  {
   "cell_type": "markdown",
   "metadata": {},
   "source": [
    "Use the `range(start, stop, step)` function with for loops for most of you looping needs."
   ]
  },
  {
   "cell_type": "code",
   "execution_count": 17,
   "metadata": {},
   "outputs": [
    {
     "name": "stdout",
     "output_type": "stream",
     "text": [
      "0\n",
      "1\n",
      "2\n",
      "3\n",
      "4\n",
      "5\n",
      "6\n",
      "7\n",
      "8\n",
      "9\n",
      "0\n",
      "1\n",
      "2\n",
      "3\n",
      "4\n",
      "5\n",
      "6\n",
      "7\n",
      "8\n",
      "9\n"
     ]
    }
   ],
   "source": [
    "for i in range(0, 10, 1):\n",
    "    print(i)\n",
    "\n",
    "# the same but shorter\n",
    "for i in range(10):\n",
    "    print(i)"
   ]
  },
  {
   "cell_type": "markdown",
   "metadata": {},
   "source": [
    "while loops also exists and will iterate while a condition holds (… huh)."
   ]
  },
  {
   "cell_type": "code",
   "execution_count": 29,
   "metadata": {},
   "outputs": [
    {
     "name": "stdout",
     "output_type": "stream",
     "text": [
      "4\n",
      "3\n",
      "2\n",
      "1\n"
     ]
    }
   ],
   "source": [
    "x = 1234\n",
    "while x > 0:\n",
    "    d = x % 10    # modulo gives the integer rest\n",
    "    x //= 10      # x = x // 10 is integer division, inlining works for all operators\n",
    "    print(d)"
   ]
  },
  {
   "cell_type": "markdown",
   "metadata": {},
   "source": [
    "Functions are declared with the `def` keyword"
   ]
  },
  {
   "cell_type": "code",
   "execution_count": 25,
   "metadata": {},
   "outputs": [
    {
     "name": "stdout",
     "output_type": "stream",
     "text": [
      "1\n",
      "1\n",
      "1\n",
      "2\n",
      "3\n",
      "5\n",
      "8\n",
      "13\n",
      "21\n",
      "34\n"
     ]
    }
   ],
   "source": [
    "def fibonacci(n):\n",
    "    if n <= 2:\n",
    "        return 1\n",
    "    else:\n",
    "        return fibonacci(n - 1) + fibonacci(n - 2)\n",
    "    \n",
    "for i in range(10):\n",
    "    print(fibonacci(i))"
   ]
  },
  {
   "cell_type": "markdown",
   "metadata": {},
   "source": [
    "Functions can also have keyword arguments, that have a default value."
   ]
  },
  {
   "cell_type": "code",
   "execution_count": 28,
   "metadata": {},
   "outputs": [
    {
     "name": "stdout",
     "output_type": "stream",
     "text": [
      "2.8284271247461903\n",
      "2.8284271247461903\n",
      "2.0\n"
     ]
    }
   ],
   "source": [
    "def root(x, n = 2):\n",
    "    return x ** (1 / n)\n",
    "\n",
    "print(root(8))\n",
    "print(root(8, 2))\n",
    "print(root(8, 3))"
   ]
  },
  {
   "cell_type": "markdown",
   "metadata": {},
   "source": [
    "Built-in data structures include `list` of variable length and type and `tuple` as in mathematics. Both are indexed with squares brackets"
   ]
  },
  {
   "cell_type": "code",
   "execution_count": 31,
   "metadata": {},
   "outputs": [
    {
     "name": "stdout",
     "output_type": "stream",
     "text": [
      "Marvin Sven\n",
      "(12, 43, 100)\n"
     ]
    }
   ],
   "source": [
    "names = [\"Marvin\", \"Sven\"]\n",
    "print(names[0], names[1])\n",
    "ages = (12, 43, 100)\n",
    "print(ages)"
   ]
  },
  {
   "cell_type": "markdown",
   "metadata": {},
   "source": [
    "If you know the length of a sequence (`list` or `tuple`), there's some syntactic sugar access all elements, called unpacking."
   ]
  },
  {
   "cell_type": "code",
   "execution_count": 33,
   "metadata": {},
   "outputs": [
    {
     "name": "stdout",
     "output_type": "stream",
     "text": [
      "1 2 3 4\n",
      "1 2 3 4\n"
     ]
    }
   ],
   "source": [
    "l = (1, 2, 3, 4)\n",
    "x1 = l[0]\n",
    "x2 = l[1]\n",
    "x3 = l[2]\n",
    "x4 = l[3]\n",
    "y1, y2, y3, y4 = l\n",
    "\n",
    "print(x1, x2, x3, x4)\n",
    "print(y1, y2, y3, y4)"
   ]
  },
  {
   "cell_type": "markdown",
   "metadata": {},
   "source": [
    "Function can also take other functions as arguments."
   ]
  },
  {
   "cell_type": "code",
   "execution_count": 35,
   "metadata": {},
   "outputs": [
    {
     "data": {
      "text/plain": [
       "10"
      ]
     },
     "execution_count": 35,
     "metadata": {},
     "output_type": "execute_result"
    }
   ],
   "source": [
    "def reduce(items, op, x0 = 0):\n",
    "    x = x0\n",
    "    for i in items:\n",
    "        x = op(i, x)\n",
    "    \n",
    "    return x\n",
    "\n",
    "def add(a, b):\n",
    "    return a + b\n",
    "\n",
    "reduce([1,2,3,4], add, x0 = 0)"
   ]
  },
  {
   "cell_type": "markdown",
   "metadata": {},
   "source": [
    "Similarily functions can also return other functions."
   ]
  },
  {
   "cell_type": "code",
   "execution_count": 37,
   "metadata": {},
   "outputs": [
    {
     "name": "stdout",
     "output_type": "stream",
     "text": [
      "15 25\n"
     ]
    }
   ],
   "source": [
    "def make_adder(n):\n",
    "    def adder(a):\n",
    "        return a + n\n",
    "    \n",
    "    return adder\n",
    "\n",
    "a = make_adder(10)\n",
    "print(a(5), a(15))"
   ]
  }
 ],
 "metadata": {
  "kernelspec": {
   "display_name": "Python 3",
   "language": "python",
   "name": "python3"
  },
  "language_info": {
   "codemirror_mode": {
    "name": "ipython",
    "version": 3
   },
   "file_extension": ".py",
   "mimetype": "text/x-python",
   "name": "python",
   "nbconvert_exporter": "python",
   "pygments_lexer": "ipython3",
   "version": "3.6.5"
  }
 },
 "nbformat": 4,
 "nbformat_minor": 2
}
